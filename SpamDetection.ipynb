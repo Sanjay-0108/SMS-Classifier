{
 "cells": [
  {
   "cell_type": "code",
   "execution_count": 1,
   "metadata": {
    "scrolled": true
   },
   "outputs": [],
   "source": [
    "# Importing libraries and fetching data\n",
    "import numpy as np\n",
    "import pandas as pd\n",
    "import seaborn as sns\n",
    "import matplotlib.pyplot as plt\n",
    "%matplotlib inline"
   ]
  },
  {
   "cell_type": "code",
   "execution_count": 2,
   "metadata": {},
   "outputs": [
    {
     "data": {
      "text/html": [
       "<div>\n",
       "<style scoped>\n",
       "    .dataframe tbody tr th:only-of-type {\n",
       "        vertical-align: middle;\n",
       "    }\n",
       "\n",
       "    .dataframe tbody tr th {\n",
       "        vertical-align: top;\n",
       "    }\n",
       "\n",
       "    .dataframe thead th {\n",
       "        text-align: right;\n",
       "    }\n",
       "</style>\n",
       "<table border=\"1\" class=\"dataframe\">\n",
       "  <thead>\n",
       "    <tr style=\"text-align: right;\">\n",
       "      <th></th>\n",
       "      <th>v1</th>\n",
       "      <th>v2</th>\n",
       "      <th>Unnamed: 2</th>\n",
       "      <th>Unnamed: 3</th>\n",
       "      <th>Unnamed: 4</th>\n",
       "    </tr>\n",
       "  </thead>\n",
       "  <tbody>\n",
       "    <tr>\n",
       "      <th>0</th>\n",
       "      <td>ham</td>\n",
       "      <td>Go until jurong point, crazy.. Available only ...</td>\n",
       "      <td>NaN</td>\n",
       "      <td>NaN</td>\n",
       "      <td>NaN</td>\n",
       "    </tr>\n",
       "    <tr>\n",
       "      <th>1</th>\n",
       "      <td>ham</td>\n",
       "      <td>Ok lar... Joking wif u oni...</td>\n",
       "      <td>NaN</td>\n",
       "      <td>NaN</td>\n",
       "      <td>NaN</td>\n",
       "    </tr>\n",
       "    <tr>\n",
       "      <th>2</th>\n",
       "      <td>spam</td>\n",
       "      <td>Free entry in 2 a wkly comp to win FA Cup fina...</td>\n",
       "      <td>NaN</td>\n",
       "      <td>NaN</td>\n",
       "      <td>NaN</td>\n",
       "    </tr>\n",
       "    <tr>\n",
       "      <th>3</th>\n",
       "      <td>ham</td>\n",
       "      <td>U dun say so early hor... U c already then say...</td>\n",
       "      <td>NaN</td>\n",
       "      <td>NaN</td>\n",
       "      <td>NaN</td>\n",
       "    </tr>\n",
       "    <tr>\n",
       "      <th>4</th>\n",
       "      <td>ham</td>\n",
       "      <td>Nah I don't think he goes to usf, he lives aro...</td>\n",
       "      <td>NaN</td>\n",
       "      <td>NaN</td>\n",
       "      <td>NaN</td>\n",
       "    </tr>\n",
       "  </tbody>\n",
       "</table>\n",
       "</div>"
      ],
      "text/plain": [
       "     v1                                                 v2 Unnamed: 2  \\\n",
       "0   ham  Go until jurong point, crazy.. Available only ...        NaN   \n",
       "1   ham                      Ok lar... Joking wif u oni...        NaN   \n",
       "2  spam  Free entry in 2 a wkly comp to win FA Cup fina...        NaN   \n",
       "3   ham  U dun say so early hor... U c already then say...        NaN   \n",
       "4   ham  Nah I don't think he goes to usf, he lives aro...        NaN   \n",
       "\n",
       "  Unnamed: 3 Unnamed: 4  \n",
       "0        NaN        NaN  \n",
       "1        NaN        NaN  \n",
       "2        NaN        NaN  \n",
       "3        NaN        NaN  \n",
       "4        NaN        NaN  "
      ]
     },
     "execution_count": 2,
     "metadata": {},
     "output_type": "execute_result"
    }
   ],
   "source": [
    "data = pd.read_csv(\"spam.csv\")\n",
    "data.head()"
   ]
  },
  {
   "cell_type": "code",
   "execution_count": 5,
   "metadata": {},
   "outputs": [
    {
     "name": "stderr",
     "output_type": "stream",
     "text": [
      "C:\\Users\\sanja\\AppData\\Local\\Temp\\ipykernel_23188\\97676545.py:2: FutureWarning: \n",
      "\n",
      "Passing `palette` without assigning `hue` is deprecated and will be removed in v0.14.0. Assign the `x` variable to `hue` and set `legend=False` for the same effect.\n",
      "\n",
      "  ax = sns.countplot(x='v1', data=data, palette='pastel')  # Set the palette for bar colors\n"
     ]
    },
    {
     "data": {
      "image/png": "[encoded data removed]",
      "text/plain": [
       "<Figure size 640x480 with 1 Axes>"
      ]
     },
     "metadata": {},
     "output_type": "display_data"
    }
   ],
   "source": [
    "sns.set(style=\"whitegrid\")  # Set the style\n",
    "ax = sns.countplot(x='v1', data=data, palette='pastel')  # Set the palette for bar colors\n",
    "plt.xlabel('Category')\n",
    "plt.ylabel('Count')\n",
    "plt.title('Distribution of Messages')\n",
    "for p in ax.patches:\n",
    "    ax.annotate(f'{p.get_height()}', (p.get_x() + p.get_width() / 2., p.get_height()),\n",
    "                ha='center', va='center', fontsize=11, color='black', xytext=(0, 5),\n",
    "                textcoords='offset points')\n",
    "\n",
    "plt.show()"
   ]
  },
  {
   "cell_type": "markdown",
   "metadata": {},
   "source": [
    "We can see that our dataset contains mainly ham messages. This would limit the capability of model to classify correctly, but we can give it a try!"
   ]
  },
  {
   "cell_type": "code",
   "execution_count": 6,
   "metadata": {},
   "outputs": [
    {
     "name": "stdout",
     "output_type": "stream",
     "text": [
      "<class 'pandas.core.frame.DataFrame'>\n",
      "RangeIndex: 5572 entries, 0 to 5571\n",
      "Data columns (total 5 columns):\n",
      " #   Column      Non-Null Count  Dtype \n",
      "---  ------      --------------  ----- \n",
      " 0   v1          5572 non-null   object\n",
      " 1   v2          5572 non-null   object\n",
      " 2   Unnamed: 2  50 non-null     object\n",
      " 3   Unnamed: 3  12 non-null     object\n",
      " 4   Unnamed: 4  6 non-null      object\n",
      "dtypes: object(5)\n",
      "memory usage: 217.8+ KB\n"
     ]
    }
   ],
   "source": [
    "data.info()"
   ]
  },
  {
   "cell_type": "markdown",
   "metadata": {},
   "source": [
    "We can see that v1 and v2 corresponds to whether the messages are ham/spam and the message text.\n",
    "However, we'll need to look through the Unnamed fields to explore whether they have any effect on the final conclusion."
   ]
  },
  {
   "cell_type": "code",
   "execution_count": 7,
   "metadata": {},
   "outputs": [
    {
     "data": {
      "text/plain": [
       "Unnamed: 2\n",
       " bt not his girlfrnd... G o o d n i g h t . . .@\"       3\n",
       " PO Box 5249                                            2\n",
       "this wont even start........ Datz confidence..\"         2\n",
       "GN                                                      2\n",
       " don't miss ur best life for anything... Gud nyt...\"    2\n",
       "Name: count, dtype: int64"
      ]
     },
     "execution_count": 7,
     "metadata": {},
     "output_type": "execute_result"
    }
   ],
   "source": [
    "data[\"Unnamed: 2\"].value_counts().head()"
   ]
  },
  {
   "cell_type": "markdown",
   "metadata": {},
   "source": [
    "So we've 5 columns:\n",
    "1. Containing the target whether the message is ham/spam\n",
    "2. Text Field 1\n",
    "3. Text Field 2\n",
    "4. Text Field 4\n",
    "5. Text Field 5\n",
    "\n",
    "We can safely say that the amount of data in the Unnamed columns are negligible and can be dropped without any alterations to the remaining data.\n",
    "\n",
    "Also, fortunately, we've no null values in v1 and v2"
   ]
  },
  {
   "cell_type": "code",
   "execution_count": 8,
   "metadata": {
    "scrolled": true
   },
   "outputs": [
    {
     "name": "stderr",
     "output_type": "stream",
     "text": [
      "[nltk_data] Downloading package stopwords to\n",
      "[nltk_data]     C:\\Users\\sanja\\AppData\\Roaming\\nltk_data...\n",
      "[nltk_data]   Package stopwords is already up-to-date!\n"
     ]
    },
    {
     "data": {
      "text/plain": [
       "True"
      ]
     },
     "execution_count": 8,
     "metadata": {},
     "output_type": "execute_result"
    }
   ],
   "source": [
    "import nltk\n",
    "nltk.download('stopwords')"
   ]
  },
  {
   "cell_type": "markdown",
   "metadata": {},
   "source": [
    "# **DATA PROCESSING**"
   ]
  },
  {
   "cell_type": "code",
   "execution_count": 9,
   "metadata": {},
   "outputs": [],
   "source": [
    "\n",
    "import string\n",
    "from nltk.corpus import stopwords\n",
    "from nltk.stem import SnowballStemmer\n",
    "\n",
    "stemmer = SnowballStemmer(\"english\")\n",
    "\n",
    "def simplify_data(data):\n",
    "    data = pd.read_csv(\"spam.csv\")         \n",
    "    data[\"Spam\"] = data.v1.map({'ham':0, 'spam':1})\n",
    "    data[\"Text\"] = data.v2.str.lower()\n",
    "    data.Text = data.Text.str.replace(r'[.,\\\\&;!:-?(|)#@$^%*0-9/\\'\\\"+={|}~`_[|]]*', '')\n",
    "    data = data.drop([\"v1\", \"v2\", \"Unnamed: 2\", \"Unnamed: 3\", \"Unnamed: 4\"], axis=1)\n",
    "    return data"
   ]
  },
  {
   "cell_type": "code",
   "execution_count": 10,
   "metadata": {},
   "outputs": [],
   "source": [
    "  \n",
    "def remove_stopwords(message):\n",
    "    # Remove stop words from the text\n",
    "    \n",
    "    stop_words = set(stopwords.words('english'))\n",
    "    message = message.translate(str.maketrans('', '', string.punctuation))\n",
    "    text = [word for word in message.split() if word not in stop_words and len(word) > 2]\n",
    "    return \" \".join(text)\n",
    "\n",
    "def text_length(text):\n",
    "    return len(text)\n",
    "    \n",
    "def format_length(data):\n",
    "    data[\"Length\"] = data.Text.apply(text_length)\n",
    "    data.Length = pd.cut(data.Length, [-1, 10, 20, 30, 50, 75, 100, 999], labels=[10,20,30,50,75,100,200])\n",
    "    return data\n",
    "    "
   ]
  },
  {
   "cell_type": "code",
   "execution_count": 11,
   "metadata": {},
   "outputs": [],
   "source": [
    " def apply_transformations(data):\n",
    "    data = simplify_data(data)\n",
    "    data.Text = data.Text.apply(remove_stopwords)\n",
    "    data = format_length(data)\n",
    "    return data\n",
    "\n"
   ]
  },
  {
   "cell_type": "code",
   "execution_count": 12,
   "metadata": {},
   "outputs": [
    {
     "data": {
      "text/html": [
       "<div>\n",
       "<style scoped>\n",
       "    .dataframe tbody tr th:only-of-type {\n",
       "        vertical-align: middle;\n",
       "    }\n",
       "\n",
       "    .dataframe tbody tr th {\n",
       "        vertical-align: top;\n",
       "    }\n",
       "\n",
       "    .dataframe thead th {\n",
       "        text-align: right;\n",
       "    }\n",
       "</style>\n",
       "<table border=\"1\" class=\"dataframe\">\n",
       "  <thead>\n",
       "    <tr style=\"text-align: right;\">\n",
       "      <th></th>\n",
       "      <th>Spam</th>\n",
       "      <th>Text</th>\n",
       "      <th>Length</th>\n",
       "    </tr>\n",
       "  </thead>\n",
       "  <tbody>\n",
       "    <tr>\n",
       "      <th>0</th>\n",
       "      <td>0</td>\n",
       "      <td>jurong point crazy available bugis great world...</td>\n",
       "      <td>75</td>\n",
       "    </tr>\n",
       "    <tr>\n",
       "      <th>1</th>\n",
       "      <td>0</td>\n",
       "      <td>lar joking wif oni</td>\n",
       "      <td>20</td>\n",
       "    </tr>\n",
       "    <tr>\n",
       "      <th>2</th>\n",
       "      <td>1</td>\n",
       "      <td>free entry wkly comp win cup final tkts 21st m...</td>\n",
       "      <td>200</td>\n",
       "    </tr>\n",
       "    <tr>\n",
       "      <th>3</th>\n",
       "      <td>0</td>\n",
       "      <td>dun say early hor already say</td>\n",
       "      <td>30</td>\n",
       "    </tr>\n",
       "    <tr>\n",
       "      <th>4</th>\n",
       "      <td>0</td>\n",
       "      <td>nah dont think goes usf lives around though</td>\n",
       "      <td>50</td>\n",
       "    </tr>\n",
       "  </tbody>\n",
       "</table>\n",
       "</div>"
      ],
      "text/plain": [
       "   Spam                                               Text Length\n",
       "0     0  jurong point crazy available bugis great world...     75\n",
       "1     0                                 lar joking wif oni     20\n",
       "2     1  free entry wkly comp win cup final tkts 21st m...    200\n",
       "3     0                      dun say early hor already say     30\n",
       "4     0        nah dont think goes usf lives around though     50"
      ]
     },
     "execution_count": 12,
     "metadata": {},
     "output_type": "execute_result"
    }
   ],
   "source": [
    "data = apply_transformations(data)\n",
    "data.head()"
   ]
  },
  {
   "cell_type": "code",
   "execution_count": 13,
   "metadata": {},
   "outputs": [
    {
     "data": {
      "image/png": "[encoded data removed]",
      "text/plain": [
       "<Figure size 1600x1000 with 1 Axes>"
      ]
     },
     "metadata": {},
     "output_type": "display_data"
    }
   ],
   "source": [
    "plt.figure(figsize=(16,10))\n",
    "plt.xlabel(\"Length\")\n",
    "plt.ylabel(\"Number of Spam messages\")\n",
    "\n",
    "\n",
    "ax = sns.countplot(x=data.Length, hue=data.Spam)\n",
    "\n",
    "for p in ax.patches:\n",
    "    ax.annotate(f'{p.get_height()}', (p.get_x() + p.get_width() / 2., p.get_height()),\n",
    "                ha='center', va='center', fontsize=11, color='black', xytext=(0, 5),\n",
    "                textcoords='offset points')\n",
    "\n",
    "plt.show()\n"
   ]
  },
  {
   "cell_type": "markdown",
   "metadata": {},
   "source": [
    "We can see that most messages with less length were mostly Ham messages and that the spam messages have a comparatively very small area. We can use this data further for classification. We also binned the lengths due to the broad spread it had previously."
   ]
  },
  {
   "cell_type": "code",
   "execution_count": 14,
   "metadata": {},
   "outputs": [
    {
     "data": {
      "text/html": [
       "<div>\n",
       "<style scoped>\n",
       "    .dataframe tbody tr th:only-of-type {\n",
       "        vertical-align: middle;\n",
       "    }\n",
       "\n",
       "    .dataframe tbody tr th {\n",
       "        vertical-align: top;\n",
       "    }\n",
       "\n",
       "    .dataframe thead th {\n",
       "        text-align: right;\n",
       "    }\n",
       "</style>\n",
       "<table border=\"1\" class=\"dataframe\">\n",
       "  <thead>\n",
       "    <tr style=\"text-align: right;\">\n",
       "      <th></th>\n",
       "      <th>Spam</th>\n",
       "      <th>Text</th>\n",
       "      <th>Length</th>\n",
       "      <th>Diff</th>\n",
       "    </tr>\n",
       "  </thead>\n",
       "  <tbody>\n",
       "    <tr>\n",
       "      <th>0</th>\n",
       "      <td>0</td>\n",
       "      <td>jurong point crazy available bugis great world...</td>\n",
       "      <td>75</td>\n",
       "      <td>0</td>\n",
       "    </tr>\n",
       "    <tr>\n",
       "      <th>1</th>\n",
       "      <td>0</td>\n",
       "      <td>lar joking wif oni</td>\n",
       "      <td>20</td>\n",
       "      <td>0</td>\n",
       "    </tr>\n",
       "    <tr>\n",
       "      <th>2</th>\n",
       "      <td>1</td>\n",
       "      <td>free entry wkly comp win cup final tkts 21st m...</td>\n",
       "      <td>200</td>\n",
       "      <td>1</td>\n",
       "    </tr>\n",
       "    <tr>\n",
       "      <th>3</th>\n",
       "      <td>0</td>\n",
       "      <td>dun say early hor already say</td>\n",
       "      <td>30</td>\n",
       "      <td>0</td>\n",
       "    </tr>\n",
       "    <tr>\n",
       "      <th>4</th>\n",
       "      <td>0</td>\n",
       "      <td>nah dont think goes usf lives around though</td>\n",
       "      <td>50</td>\n",
       "      <td>0</td>\n",
       "    </tr>\n",
       "  </tbody>\n",
       "</table>\n",
       "</div>"
      ],
      "text/plain": [
       "   Spam                                               Text Length  Diff\n",
       "0     0  jurong point crazy available bugis great world...     75     0\n",
       "1     0                                 lar joking wif oni     20     0\n",
       "2     1  free entry wkly comp win cup final tkts 21st m...    200     1\n",
       "3     0                      dun say early hor already say     30     0\n",
       "4     0        nah dont think goes usf lives around though     50     0"
      ]
     },
     "execution_count": 14,
     "metadata": {},
     "output_type": "execute_result"
    }
   ],
   "source": [
    "spam_words = []\n",
    "ham_words = []\n",
    "\n",
    "def getSpam(text):\n",
    "    global spam_words, spam_messages\n",
    "    messages = text.split()\n",
    "    words = [x for x in messages]\n",
    "    spam_words += words\n",
    "    \n",
    "def getHam(text):\n",
    "    global ham_words, ham_messages\n",
    "    messages = text.split()\n",
    "    words = [x for x in messages]\n",
    "    ham_words += words\n",
    "    \n",
    "# Separate spam and ham messages\n",
    "spam_messages = data[data[\"Spam\"] == 1][\"Text\"]\n",
    "ham_messages = data[data[\"Spam\"] == 0][\"Text\"]\n",
    "\n",
    "# Store common words in Spam/Ham\n",
    "spam_messages.apply(getSpam)\n",
    "ham_messages.apply(getHam)\n",
    "\n",
    "\n"
   ]
  },
  {
   "cell_type": "code",
   "execution_count": 15,
   "metadata": {},
   "outputs": [],
   "source": [
    "def countSpam(text):\n",
    "    count = 0\n",
    "    for x in text.split():\n",
    "        if x in spam_words:\n",
    "            count += spam_words.count(x)\n",
    "    return count\n",
    "\n",
    "def countHam(text):\n",
    "    count = 0\n",
    "    for x in text.split():\n",
    "        if x in ham_words:\n",
    "            count += ham_words.count(x)\n",
    "    return count\n",
    "\n",
    "def getCounts(data):\n",
    "    SpamCount = data.Text.apply(countSpam)\n",
    "    HamCount = data.Text.apply(countHam)\n",
    "    data[\"Diff\"] = SpamCount - HamCount\n",
    "    return data\n",
    "\n",
    "def categorize(diff):\n",
    "    if diff <= 0:\n",
    "        return 0\n",
    "    else:\n",
    "        return 1\n",
    "\n",
    "def apply_calc(data):\n",
    "    data = getCounts(data)\n",
    "    data.Diff = data.Diff.apply(categorize)\n",
    "    return data\n"
   ]
  },
  {
   "cell_type": "code",
   "execution_count": 16,
   "metadata": {},
   "outputs": [
    {
     "data": {
      "text/html": [
       "<div>\n",
       "<style scoped>\n",
       "    .dataframe tbody tr th:only-of-type {\n",
       "        vertical-align: middle;\n",
       "    }\n",
       "\n",
       "    .dataframe tbody tr th {\n",
       "        vertical-align: top;\n",
       "    }\n",
       "\n",
       "    .dataframe thead th {\n",
       "        text-align: right;\n",
       "    }\n",
       "</style>\n",
       "<table border=\"1\" class=\"dataframe\">\n",
       "  <thead>\n",
       "    <tr style=\"text-align: right;\">\n",
       "      <th></th>\n",
       "      <th>Spam</th>\n",
       "      <th>Text</th>\n",
       "      <th>Length</th>\n",
       "      <th>Diff</th>\n",
       "    </tr>\n",
       "  </thead>\n",
       "  <tbody>\n",
       "    <tr>\n",
       "      <th>0</th>\n",
       "      <td>0</td>\n",
       "      <td>jurong point crazy available bugis great world...</td>\n",
       "      <td>75</td>\n",
       "      <td>0</td>\n",
       "    </tr>\n",
       "    <tr>\n",
       "      <th>1</th>\n",
       "      <td>0</td>\n",
       "      <td>lar joking wif oni</td>\n",
       "      <td>20</td>\n",
       "      <td>0</td>\n",
       "    </tr>\n",
       "    <tr>\n",
       "      <th>2</th>\n",
       "      <td>1</td>\n",
       "      <td>free entry wkly comp win cup final tkts 21st m...</td>\n",
       "      <td>200</td>\n",
       "      <td>1</td>\n",
       "    </tr>\n",
       "    <tr>\n",
       "      <th>3</th>\n",
       "      <td>0</td>\n",
       "      <td>dun say early hor already say</td>\n",
       "      <td>30</td>\n",
       "      <td>0</td>\n",
       "    </tr>\n",
       "    <tr>\n",
       "      <th>4</th>\n",
       "      <td>0</td>\n",
       "      <td>nah dont think goes usf lives around though</td>\n",
       "      <td>50</td>\n",
       "      <td>0</td>\n",
       "    </tr>\n",
       "  </tbody>\n",
       "</table>\n",
       "</div>"
      ],
      "text/plain": [
       "   Spam                                               Text Length  Diff\n",
       "0     0  jurong point crazy available bugis great world...     75     0\n",
       "1     0                                 lar joking wif oni     20     0\n",
       "2     1  free entry wkly comp win cup final tkts 21st m...    200     1\n",
       "3     0                      dun say early hor already say     30     0\n",
       "4     0        nah dont think goes usf lives around though     50     0"
      ]
     },
     "execution_count": 16,
     "metadata": {},
     "output_type": "execute_result"
    }
   ],
   "source": [
    "\n",
    "data = apply_calc(data)\n",
    "data.head()"
   ]
  },
  {
   "cell_type": "code",
   "execution_count": 17,
   "metadata": {},
   "outputs": [
    {
     "data": {
      "text/plain": [
       "216"
      ]
     },
     "execution_count": 17,
     "metadata": {},
     "output_type": "execute_result"
    }
   ],
   "source": [
    "spam_words.count(\"free\")"
   ]
  },
  {
   "cell_type": "code",
   "execution_count": 18,
   "metadata": {},
   "outputs": [
    {
     "data": {
      "text/plain": [
       "59"
      ]
     },
     "execution_count": 18,
     "metadata": {},
     "output_type": "execute_result"
    }
   ],
   "source": [
    "ham_words.count(\"free\")"
   ]
  },
  {
   "cell_type": "markdown",
   "metadata": {},
   "source": [
    "Now that we've the algorithm to generate the required data(diff), we can try our model."
   ]
  },
  {
   "cell_type": "code",
   "execution_count": 19,
   "metadata": {},
   "outputs": [],
   "source": [
    "from sklearn.model_selection import train_test_split, GridSearchCV\n",
    "\n",
    "X = data.drop([\"Spam\"], axis=1)\n",
    "X_train, X_test, y_train, y_test = train_test_split(X, data.Spam, test_size=0.2, random_state=23)"
   ]
  },
  {
   "cell_type": "markdown",
   "metadata": {},
   "source": [
    "Since we already have aur generated outputs in Diff column, we can now check the accuracy of the model on the training data"
   ]
  },
  {
   "cell_type": "code",
   "execution_count": 20,
   "metadata": {},
   "outputs": [
    {
     "name": "stdout",
     "output_type": "stream",
     "text": [
      "Accuracy on train data:  0.9540049360556428\n",
      "Accuracy on test data:  0.9443946188340807\n"
     ]
    }
   ],
   "source": [
    "from sklearn.metrics import accuracy_score, make_scorer\n",
    "print(\"Accuracy on train data: \", accuracy_score(X_train.Diff, y_train))\n",
    "print(\"Accuracy on test data: \", accuracy_score(X_test.Diff, y_test))"
   ]
  },
  {
   "cell_type": "markdown",
   "metadata": {},
   "source": [
    "A 94-95% accuracy sounds good for using only one parameter!\n",
    "However, we can further try using different models and try to include length as a parameter."
   ]
  },
  {
   "cell_type": "code",
   "execution_count": 21,
   "metadata": {},
   "outputs": [],
   "source": [
    "from sklearn.ensemble import RandomForestClassifier\n",
    "from sklearn.svm import SVC\n",
    "from sklearn.naive_bayes import GaussianNB\n",
    "X_train = X_train[[\"Length\", \"Diff\"]]\n",
    "X_test = X_test[[\"Length\", \"Diff\"]]"
   ]
  },
  {
   "cell_type": "markdown",
   "metadata": {},
   "source": [
    "# **1. RANDOMFORESTMODEL**\n",
    "\n",
    "\n",
    "\n",
    "\n",
    "\n",
    "\n",
    "\n",
    "\n",
    "\n",
    "\n",
    "\n",
    "\n",
    "\n",
    "\n",
    "\n",
    "\n",
    "\n",
    "\n",
    "\n"
   ]
  },
  {
   "cell_type": "code",
   "execution_count": 22,
   "metadata": {},
   "outputs": [
    {
     "name": "stdout",
     "output_type": "stream",
     "text": [
      "Accuracy with RandomForestClassifier:  0.9605381165919282\n"
     ]
    },
    {
     "name": "stderr",
     "output_type": "stream",
     "text": [
      "C:\\Users\\sanja\\AppData\\Local\\Packages\\PythonSoftwareFoundation.Python.3.11_qbz5n2kfra8p0\\LocalCache\\local-packages\\Python311\\site-packages\\sklearn\\model_selection\\_validation.py:425: FitFailedWarning: \n",
      "648 fits failed out of a total of 1944.\n",
      "The score on these train-test partitions for these parameters will be set to nan.\n",
      "If these failures are not expected, you can try to debug them by setting error_score='raise'.\n",
      "\n",
      "Below are more details about the failures:\n",
      "--------------------------------------------------------------------------------\n",
      "648 fits failed with the following error:\n",
      "Traceback (most recent call last):\n",
      "  File \"C:\\Users\\sanja\\AppData\\Local\\Packages\\PythonSoftwareFoundation.Python.3.11_qbz5n2kfra8p0\\LocalCache\\local-packages\\Python311\\site-packages\\sklearn\\model_selection\\_validation.py\", line 729, in _fit_and_score\n",
      "    estimator.fit(X_train, y_train, **fit_params)\n",
      "  File \"C:\\Users\\sanja\\AppData\\Local\\Packages\\PythonSoftwareFoundation.Python.3.11_qbz5n2kfra8p0\\LocalCache\\local-packages\\Python311\\site-packages\\sklearn\\base.py\", line 1145, in wrapper\n",
      "    estimator._validate_params()\n",
      "  File \"C:\\Users\\sanja\\AppData\\Local\\Packages\\PythonSoftwareFoundation.Python.3.11_qbz5n2kfra8p0\\LocalCache\\local-packages\\Python311\\site-packages\\sklearn\\base.py\", line 638, in _validate_params\n",
      "    validate_parameter_constraints(\n",
      "  File \"C:\\Users\\sanja\\AppData\\Local\\Packages\\PythonSoftwareFoundation.Python.3.11_qbz5n2kfra8p0\\LocalCache\\local-packages\\Python311\\site-packages\\sklearn\\utils\\_param_validation.py\", line 96, in validate_parameter_constraints\n",
      "    raise InvalidParameterError(\n",
      "sklearn.utils._param_validation.InvalidParameterError: The 'max_features' parameter of RandomForestClassifier must be an int in the range [1, inf), a float in the range (0.0, 1.0], a str among {'sqrt', 'log2'} or None. Got 'auto' instead.\n",
      "\n",
      "  warnings.warn(some_fits_failed_message, FitFailedWarning)\n",
      "C:\\Users\\sanja\\AppData\\Local\\Packages\\PythonSoftwareFoundation.Python.3.11_qbz5n2kfra8p0\\LocalCache\\local-packages\\Python311\\site-packages\\sklearn\\model_selection\\_search.py:979: UserWarning: One or more of the test scores are non-finite: [0.95938811 0.95916304 0.95938811 0.96163127 0.96073491 0.96073325\n",
      " 0.96320148 0.95938811 0.95938811 0.96252944 0.96028537 0.96118264\n",
      " 0.96252778 0.96320148 0.95983599 0.95826577 0.96185558 0.95938811\n",
      " 0.96073491 0.96073325 0.95983599 0.95938811 0.96185558 0.96118264\n",
      " 0.95826577 0.95826577 0.95826577 0.96050893 0.96095832 0.96073325\n",
      " 0.95826577 0.95938811 0.95826577 0.95826577 0.96118264 0.95938811\n",
      " 0.95938811 0.95938811 0.96073325 0.96185558 0.96118264 0.95938811\n",
      " 0.95938811 0.95983599 0.96118264 0.96073491 0.9600603  0.95938811\n",
      " 0.96320148 0.95938811 0.95826577 0.96095832 0.96342579 0.95938811\n",
      "        nan        nan        nan        nan        nan        nan\n",
      "        nan        nan        nan        nan        nan        nan\n",
      "        nan        nan        nan        nan        nan        nan\n",
      "        nan        nan        nan        nan        nan        nan\n",
      "        nan        nan        nan 0.9647726  0.96275285 0.9647726\n",
      " 0.96499691 0.96409965 0.96499691 0.96499691 0.96499691 0.96387533\n",
      " 0.96499691 0.96499691 0.96499691 0.96275285 0.96499691 0.96499691\n",
      " 0.96499691 0.96499691 0.96185558 0.96252853 0.96365011 0.96499691\n",
      " 0.96499691 0.96342579 0.96499691 0.96409965 0.96275285 0.9647726\n",
      " 0.96163217 0.96252944 0.96499691 0.96365011 0.96499691 0.96499691\n",
      " 0.96365011 0.96275285 0.9647726  0.9647726  0.96499691 0.96499691\n",
      " 0.96252853 0.96342579 0.96499691 0.96365011 0.96365011 0.96275285\n",
      " 0.96275285 0.96409965 0.96365011 0.96118264 0.96499691 0.96499691\n",
      " 0.96499691 0.96342579 0.96365011        nan        nan        nan\n",
      "        nan        nan        nan        nan        nan        nan\n",
      "        nan        nan        nan        nan        nan        nan\n",
      "        nan        nan        nan        nan        nan        nan\n",
      "        nan        nan        nan        nan        nan        nan\n",
      " 0.96499691 0.96499691 0.96499691 0.96499691 0.96499691 0.96499691\n",
      " 0.96499691 0.96499691 0.96499691 0.96499691 0.96409965 0.96499691\n",
      " 0.96499691 0.96365011 0.96499691 0.96499691 0.96499691 0.96499691\n",
      " 0.96365011 0.96499691 0.96499691 0.96365011 0.96499691 0.96499691\n",
      " 0.96499691 0.96409965 0.96499691 0.96499691 0.96499691 0.96409965\n",
      " 0.96275285 0.96365011 0.96499691 0.96499691 0.96499691 0.96499691\n",
      " 0.96499691 0.96365011 0.96499691 0.96499691 0.96365011 0.96499691\n",
      " 0.96499691 0.96499691 0.96365011 0.96499691 0.96499691 0.96365011\n",
      " 0.96365011 0.96499691 0.96499691 0.96365011 0.96499691 0.96365011\n",
      "        nan        nan        nan        nan        nan        nan\n",
      "        nan        nan        nan        nan        nan        nan\n",
      "        nan        nan        nan        nan        nan        nan\n",
      "        nan        nan        nan        nan        nan        nan\n",
      "        nan        nan        nan 0.96499691 0.96409965 0.96275285\n",
      " 0.96499691 0.96499691 0.96499691 0.96499691 0.96499691 0.96499691\n",
      " 0.96409965 0.96499691 0.96499691 0.96409965 0.96499691 0.96409965\n",
      " 0.96499691 0.96499691 0.96499691 0.96499691 0.96409965 0.96499691\n",
      " 0.96409965 0.96365011 0.96499691 0.96275285 0.96499691 0.96499691\n",
      " 0.96499691 0.96499691 0.96499691 0.96499691 0.96365011 0.96499691\n",
      " 0.96365011 0.96499691 0.96275285 0.96499691 0.96499691 0.96499691\n",
      " 0.96499691 0.96499691 0.96499691 0.96499691 0.96409965 0.96499691\n",
      " 0.96499691 0.96365011 0.96365011 0.96409965 0.96499691 0.96365011\n",
      " 0.96499691 0.96499691 0.96499691        nan        nan        nan\n",
      "        nan        nan        nan        nan        nan        nan\n",
      "        nan        nan        nan        nan        nan        nan\n",
      "        nan        nan        nan        nan        nan        nan\n",
      "        nan        nan        nan        nan        nan        nan\n",
      " 0.96230346 0.95916304 0.96185558 0.96050893 0.96252944 0.96365011\n",
      " 0.96454828 0.96342579 0.96230346 0.96365011 0.95983599 0.96118264\n",
      " 0.96118264 0.96365011 0.96499691 0.96252944 0.96118264 0.96365011\n",
      " 0.9555693  0.96118264 0.96118264 0.95938811 0.95938811 0.96365011\n",
      " 0.96207914 0.96365011 0.96365011 0.96118264 0.96118264 0.9647726\n",
      " 0.96185558 0.96118264 0.96365011 0.95938811 0.96409965 0.96365011\n",
      " 0.96365011 0.96365011 0.9647726  0.96275285 0.9600603  0.96342579\n",
      " 0.95019116 0.96320238 0.96185558 0.96365011 0.96252944 0.96365011\n",
      " 0.96365011 0.96499691 0.96365011 0.96185558 0.96365011 0.96365011\n",
      "        nan        nan        nan        nan        nan        nan\n",
      "        nan        nan        nan        nan        nan        nan\n",
      "        nan        nan        nan        nan        nan        nan\n",
      "        nan        nan        nan        nan        nan        nan\n",
      "        nan        nan        nan 0.96365011 0.96342579 0.96365011\n",
      " 0.96365011 0.96342579 0.96365011 0.96342579 0.96342579 0.96342579\n",
      " 0.96409965 0.96365011 0.96342579 0.96365011 0.96342579 0.96499691\n",
      " 0.96409965 0.96499691 0.96342579 0.96342579 0.96342579 0.9647726\n",
      " 0.9647726  0.9647726  0.9647726  0.96499691 0.96342579 0.96499691\n",
      " 0.96499691 0.9647726  0.96499691 0.96365011 0.96454828 0.96342579\n",
      " 0.96365011 0.96365011 0.9647726  0.96409965 0.96365011 0.9647726\n",
      " 0.9647726  0.9647726  0.96342579 0.96365011 0.96499691 0.96342579\n",
      " 0.96499691 0.96499691 0.96499691 0.9647726  0.96342579 0.9647726\n",
      " 0.96275285 0.96365011 0.9647726         nan        nan        nan\n",
      "        nan        nan        nan        nan        nan        nan\n",
      "        nan        nan        nan        nan        nan        nan\n",
      "        nan        nan        nan        nan        nan        nan\n",
      "        nan        nan        nan        nan        nan        nan\n",
      " 0.96275285 0.96499691 0.96499691 0.96409965 0.96499691 0.96409965\n",
      " 0.96365011 0.96409965 0.96499691 0.96365011 0.96499691 0.96499691\n",
      " 0.96275285 0.96499691 0.96499691 0.96365011 0.96275285 0.96499691\n",
      " 0.96499691 0.96499691 0.96499691 0.96499691 0.96365011 0.96409965\n",
      " 0.96499691 0.96499691 0.96499691 0.96499691 0.96409965 0.96499691\n",
      " 0.96499691 0.96499691 0.96499691 0.96275285 0.96499691 0.96499691\n",
      " 0.96499691 0.96499691 0.96499691 0.96499691 0.96499691 0.96499691\n",
      " 0.96365011 0.96499691 0.96499691 0.96499691 0.96499691 0.96499691\n",
      " 0.96409965 0.96499691 0.96499691 0.96499691 0.96499691 0.96409965\n",
      "        nan        nan        nan        nan        nan        nan\n",
      "        nan        nan        nan        nan        nan        nan\n",
      "        nan        nan        nan        nan        nan        nan\n",
      "        nan        nan        nan        nan        nan        nan\n",
      "        nan        nan        nan 0.96499691 0.96499691 0.96409965\n",
      " 0.96499691 0.96409965 0.96499691 0.96499691 0.96365011 0.96499691\n",
      " 0.96499691 0.96365011 0.96499691 0.96499691 0.96499691 0.96499691\n",
      " 0.96409965 0.96499691 0.96499691 0.96499691 0.96499691 0.96499691\n",
      " 0.96499691 0.96499691 0.96499691 0.96409965 0.96499691 0.96499691\n",
      " 0.96499691 0.96499691 0.96365011 0.96409965 0.96499691 0.96499691\n",
      " 0.96409965 0.96409965 0.96409965 0.96365011 0.96275285 0.96499691\n",
      " 0.96499691 0.96499691 0.96499691 0.96499691 0.96499691 0.96499691\n",
      " 0.96365011 0.96409965 0.96499691 0.96499691 0.96499691 0.96499691\n",
      " 0.96499691 0.96365011 0.96499691        nan        nan        nan\n",
      "        nan        nan        nan        nan        nan        nan\n",
      "        nan        nan        nan        nan        nan        nan\n",
      "        nan        nan        nan        nan        nan        nan\n",
      "        nan        nan        nan        nan        nan        nan]\n",
      "  warnings.warn(\n"
     ]
    }
   ],
   "source": [
    "\n",
    "clf = RandomForestClassifier()\n",
    "parameters = {'n_estimators': [4, 6, 9], \n",
    "              'max_features': ['log2', 'sqrt','auto'], \n",
    "              'criterion': ['entropy', 'gini'],\n",
    "              'max_depth': [2, 3, 5, 10], \n",
    "              'min_samples_split': [2, 3, 5],\n",
    "              'min_samples_leaf': [1,5,8]\n",
    "             }\n",
    "acc_scorer = make_scorer(accuracy_score)\n",
    "grid_obj = GridSearchCV(clf, parameters, scoring=acc_scorer, cv=3)\n",
    "grid_obj = grid_obj.fit(X_train, y_train)\n",
    "clf = grid_obj.best_estimator_\n",
    "\n",
    "clf.fit(X_train, y_train)\n",
    "\n",
    "# Predicting the reuslts and calculating the accuracy\n",
    "\n",
    "preds = clf.predict(X_test)\n",
    "\n",
    "clf_acc = nb_acc = accuracy_score(y_test, preds)\n",
    "print(\"Accuracy with RandomForestClassifier: \", accuracy_score(y_test, preds))"
   ]
  },
  {
   "cell_type": "markdown",
   "metadata": {},
   "source": [
    "# **2.SVC model**"
   ]
  },
  {
   "cell_type": "code",
   "execution_count": 24,
   "metadata": {},
   "outputs": [
    {
     "name": "stdout",
     "output_type": "stream",
     "text": [
      "Accuracy with SVC:  0.9004484304932735\n"
     ]
    }
   ],
   "source": [
    "svc_clf = SVC(gamma='scale')\n",
    "svc_clf.fit(X_train,y_train)\n",
    "svc_preds = svc_clf.predict(X_test)\n",
    "\n",
    "svc_acc = accuracy_score(y_test, svc_preds)\n",
    "print(\"Accuracy with SVC: \", accuracy_score(y_test, svc_preds))"
   ]
  },
  {
   "cell_type": "markdown",
   "metadata": {},
   "source": [
    "# **3. NAIVEBAYESIAN**"
   ]
  },
  {
   "cell_type": "code",
   "execution_count": 25,
   "metadata": {},
   "outputs": [
    {
     "name": "stdout",
     "output_type": "stream",
     "text": [
      "Accuracy with NaiveBayesian:  0.9443946188340807\n"
     ]
    }
   ],
   "source": [
    "nb = GaussianNB()\n",
    "nb.fit(X_train, y_train)\n",
    "nb_preds = nb.predict(X_test)\n",
    "\n",
    "nb_acc = accuracy_score(y_test, nb_preds)\n",
    "print(\"Accuracy with NaiveBayesian: \", accuracy_score(y_test, nb_preds))"
   ]
  },
  {
   "cell_type": "markdown",
   "metadata": {},
   "source": [
    "We got a great accuracy with all models, including the programming approach! Our models are proving to be really great in detecting spam messages!"
   ]
  },
  {
   "cell_type": "code",
   "execution_count": 26,
   "metadata": {},
   "outputs": [
    {
     "data": {
      "image/png": "[encoded data removed]",
      "text/plain": [
       "<Figure size 1000x600 with 1 Axes>"
      ]
     },
     "metadata": {},
     "output_type": "display_data"
    }
   ],
   "source": [
    "plt.figure(figsize=(10, 6))\n",
    "ax = sns.countplot(x=X_test.Length, hue=y_test)\n",
    "for p in ax.patches:\n",
    "    ax.annotate(f'{p.get_height()}', (p.get_x() + p.get_width() / 2., p.get_height()),\n",
    "                ha='center', va='center', fontsize=11, color='black', xytext=(0, 5),\n",
    "                textcoords='offset points')\n",
    "\n",
    "plt.xlabel(\"Length\")\n",
    "plt.ylabel(\"Number of Messages\")\n",
    "plt.show()\n"
   ]
  },
  {
   "cell_type": "markdown",
   "metadata": {},
   "source": [
    "The model would be useless if we can't test custom inputs!\n",
    "Finally we create a function to interact with front-end for predicting spam category for manual input.\n",
    "\n",
    "Since we had the most accuracy with RandomForestClassifier, we'll use it for our predictions."
   ]
  },
  {
   "cell_type": "code",
   "execution_count": 27,
   "metadata": {},
   "outputs": [
    {
     "data": {
      "text/plain": [
       "array([[4725,  100],\n",
       "       [ 167,  580]], dtype=int64)"
      ]
     },
     "execution_count": 27,
     "metadata": {},
     "output_type": "execute_result"
    }
   ],
   "source": [
    "from sklearn.metrics import confusion_matrix\n",
    "confusion_matrix(data.Spam, data.Diff)"
   ]
  },
  {
   "cell_type": "markdown",
   "metadata": {},
   "source": [
    "# **Interface for the manual messages**"
   ]
  },
  {
   "cell_type": "code",
   "execution_count": 15,
   "metadata": {},
   "outputs": [
    {
     "name": "stdout",
     "output_type": "stream",
     "text": [
      "Enter message: Congratulations! You've won a free phone. Call now on 9999999999\n",
      "Spam\n"
     ]
    }
   ],
   "source": [
    "def manual_entry():\n",
    "    global clf\n",
    "    temp = pd.DataFrame(columns=[\"Text\"])\n",
    "    temp = temp.append({\"Text\": input(\"Enter message: \")}, ignore_index=True)\n",
    "\n",
    "    temp = format_length(temp)\n",
    "    temp = apply_calc(temp)\n",
    "    temp = temp.drop([\"Text\"], axis=1)\n",
    "\n",
    "    if temp.Diff.loc[0] == 1:\n",
    "        print(\"Spam\")\n",
    "    else:\n",
    "        print(\"Ham\")\n",
    "        \n",
    "manual_entry()"
   ]
  }
 ],
 "metadata": {
  "kernelspec": {
   "display_name": "Python 3",
   "language": "python",
   "name": "python3"
  },
  "language_info": {
   "codemirror_mode": {
    "name": "ipython",
    "version": 3
   },
   "file_extension": ".py",
   "mimetype": "text/x-python",
   "name": "python",
   "nbconvert_exporter": "python",
   "pygments_lexer": "ipython3",
   "version": "3.11.8"
  }
 },
 "nbformat": 4,
 "nbformat_minor": 2
}
